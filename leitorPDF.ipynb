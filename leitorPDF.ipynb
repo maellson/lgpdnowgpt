{
 "cells": [
  {
   "cell_type": "markdown",
   "metadata": {},
   "source": [
    "# Load PDF using pypdf \n",
    "\n",
    "into array of documents, where each document contains the page content and metadata with page number.\n",
    "\n",
    "                pip install pypdf"
   ]
  },
  {
   "cell_type": "code",
   "execution_count": 6,
   "metadata": {},
   "outputs": [
    {
     "data": {
      "text/plain": [
       "Document(page_content='ABNT/CB -21 \\nPROJETO ABNT NBR ISO /IEC 27001  \\nSET 2013  \\n \\nNÃO TEM VALOR NORMAT IVO  \\n   \\nTecnologia da Informação – Técnicas de Segurança – Sistemas de gestão \\nda segurança da informação - Requisitos   \\n \\nAPRESENTAÇÃO  \\n1) Este  Projeto  de Revisão foi elaborado pela  Comissão de Estudo  de Técnicas de \\nSegurança (CE-21:027.00) do Comitê  Brasileiro de Computadores e Processamento de \\nDados  (ABNT/C B-21), nas reuniões de:  \\n \\n \\n \\n2) Este  Projeto de Revisão  é previsto para cancelar e substituir a edição anterior  \\n(ABNT NBR ISO/IEC 27001 :2006 ), quando aprovado, sendo que nesse ínterim a referida \\nnorma continua em vigor;  \\n3) Previsto para ser equivalente à ISO/IEC 27001:2013 ; \\n4) Não tem valor normativo;  \\n5) Aqueles que tiverem conhecimento de qualquer direito de patente devem apresentar esta \\ninformação em seus comentários, com documentação comprobatória;  \\n6) Este Projeto de Norma será diagramado conforme as regras de editoração da ABNT \\nquando de sua publicação como Norma Brasileira.  \\n7) Tomaram parte na elaboração deste Projeto:  \\nParticipante         Representante  \\nCQSI  ARIOSTO FARIAS JR  \\nSERASA  EXPERIAN  NILTON MOREIRA  \\nTV GLOBO  VINÍCIUS BRASILEIRO  \\nBATORI  Ricardo Kiyoshi Batori  \\nCEMIG  Giovani Davi Silva  \\nCORREIOS  Otávio Quadros  \\nDÍGITRO  Andreia S. G. da Silva  \\nIPEA -SEG  Carlos Augusto Valim  \\nIPEA -SEG  Vera P. Harger  \\nMICROSOFT  Fernando Gebara  \\nPROXIS  Olympio Neto  02.07.2013     28.08.2013', metadata={'source': './NBR_ISO_27001.pdf', 'page': 0})"
      ]
     },
     "execution_count": 6,
     "metadata": {},
     "output_type": "execute_result"
    }
   ],
   "source": [
    "from langchain_community.document_loaders import PyPDFLoader\n",
    "\n",
    "#loader = PyPDFLoader(\"./Questoes_IA.pdf\")\n",
    "loader = PyPDFLoader(\"./NBR_ISO_27001.pdf\")\n",
    "pages = loader.load_and_split()\n",
    "## analisar pagina 0\n",
    "pages[0]"
   ]
  },
  {
   "cell_type": "markdown",
   "metadata": {},
   "source": [
    "Uma vantagem dessa abordagem é que os documentos podem ser recuperados com números de página.\n",
    "\n",
    "Queremos usar o OpenAIEmbeddings, então temos que obter a Chave da API do OpenAI."
   ]
  },
  {
   "cell_type": "code",
   "execution_count": 1,
   "metadata": {},
   "outputs": [],
   "source": [
    "import os\n",
    "import getpass\n",
    "\n",
    "#Abre uma caixa de texto para poder preencher com a chave da API\n",
    "os.environ['OPENAI_API_KEY'] = getpass.getpass('OpenAI API Key:')"
   ]
  },
  {
   "cell_type": "code",
   "execution_count": 7,
   "metadata": {},
   "outputs": [
    {
     "name": "stdout",
     "output_type": "stream",
     "text": [
      "8: ABNT/CB -21 \n",
      "PROJETO ABNT NBR ISO/IEC FDI S 27001  \n",
      "SET 2013  \n",
      " \n",
      "NÃO TEM VALOR NORMAT IVO 7/32 \n",
      " \n",
      "NOTA: As organizações podem projetar os controles,co nforme requerido, ou identificá -los de qualquer outra fonte.  \n",
      "c) comparar os controles determinados em 6.1.3 b ) acima  com aqueles do Anexo  A a e\n",
      "15: ABNT/CB -21 \n",
      "PROJETO ABNT NBR ISO/IEC FDI S 27001  \n",
      "SET 2013  \n",
      " \n",
      "NÃO TEM VALOR NORMAT IVO 14/32 \n",
      " \n",
      "Anexo  A \n",
      " \n",
      "(normativo)  \n",
      " \n",
      "Referência aos controles e objetivos de controles  \n",
      "Os controles  e objetivos de controles  listados na Tabela A.1 são derivados diretamente e estão \n",
      "alinhados com aqueles l\n"
     ]
    }
   ],
   "source": [
    "from langchain_community.vectorstores import FAISS\n",
    "from langchain_openai import OpenAIEmbeddings\n",
    "from langchain_openai import ChatOpenAI\n",
    "\n",
    "llm = ChatOpenAI(openai_api_key= \"sn-key\", temperature = 0.9, model_name = \"gpt-3.5-turbo\")\n",
    "\n",
    "faiss_index = FAISS.from_documents(pages, OpenAIEmbeddings())\n",
    "docs = faiss_index.similarity_search(\"Do que trata o anexo?\", k=2)\n",
    "for doc in docs:\n",
    "    print(str(doc.metadata[\"page\"]) + \":\", doc.page_content[:300])"
   ]
  },
  {
   "cell_type": "markdown",
   "metadata": {},
   "source": [
    "Usando o pacote rapidocr-onnxruntime, também podemos extrair imagens como texto:\n",
    "\n",
    "                pip install rapidocr-onnxruntime"
   ]
  },
  {
   "cell_type": "code",
   "execution_count": null,
   "metadata": {},
   "outputs": [],
   "source": [
    "loader = PyPDFLoader(\"./Norma_ISO_27701.pdf\", extract_images=True)\n",
    "pages = loader.load()\n",
    "pages[4].page_content"
   ]
  }
 ],
 "metadata": {
  "kernelspec": {
   "display_name": "faiss",
   "language": "python",
   "name": "python3"
  },
  "language_info": {
   "codemirror_mode": {
    "name": "ipython",
    "version": 3
   },
   "file_extension": ".py",
   "mimetype": "text/x-python",
   "name": "python",
   "nbconvert_exporter": "python",
   "pygments_lexer": "ipython3",
   "version": "3.10.13"
  }
 },
 "nbformat": 4,
 "nbformat_minor": 2
}
